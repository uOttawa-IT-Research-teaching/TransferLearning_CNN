{
 "cells": [
  {
   "cell_type": "markdown",
   "id": "dd548b11-91e8-4188-b59a-92fd8e7de552",
   "metadata": {},
   "source": [
    "# Introduction to Convolutional Neural Networks (CNN)\n",
    "**Notebook 1 of 2**\n",
    "\n",
    "In our previous tutorials, we explored the fundamentals of deep neural networks (DNN).  We delved into the inner workings of how DNNs learn with the data.  This tutorial gives a cursory overview of how convolutional neural networks (CNN) work and why they are used in image and video inferencing. A more programmatic approach to CNNs is covered in the [CNN for Image Inferencing tutorial](https://github.com/uOttawa-IT-Research-teaching/CNN-ImageInferencing)."
   ]
  },
  {
   "cell_type": "markdown",
   "id": "e28319f2",
   "metadata": {},
   "source": [
    "## Learning Objectives\n",
    "\n",
    "Average time to complete: 15min\n",
    "\n",
    "By the end of this tutorial you should be able to:\n",
    "* Understand the underlying concept of CNN models using the notions taught in the DNN / CNN intro workshop"
   ]
  },
  {
   "cell_type": "markdown",
   "id": "95666577",
   "metadata": {},
   "source": [
    "## What you will need for this tutorial\n",
    "\n",
    "* See the [introduction document](https://uottawa-it-research-teaching.github.io/machinelearning/) for general requirements and how Jupyter notebooks work.\n",
    "* We'll need Pandas for convenient data handling. It's a very powerful Python package that can read CSV and Excel files. It also has very good data manipulation capabilities which come in use for data cleaning.\n",
    "* Tensorflow\n",
    "* We will use scikit learn as our machine learning package.\n",
    "* numpy \n",
    "* seaborn \n",
    "* matplotlib\n",
    "* requests\n",
    "* ipywidgets\n",
    "* The data files that should have come with this notebook."
   ]
  },
  {
   "cell_type": "markdown",
   "id": "d9c21938",
   "metadata": {},
   "source": [
    "## RDM best practices\n",
    "\n",
    "Good data handling for machine learning begins with good Research Data Managment (RDM). The quality of your source data will impact the outcome of your results, just like the reproducibility of your results will depend on the quality of your data sources, in addition to how you organize the data so that other people (and machines!) can understand and reuse it. \n",
    "\n",
    "We also need to respect a few research data management best practices along the way, these best practices are recommended by the [Digital Research Alliance of Canada](https://zenodo.org/records/4000989).\n",
    "\n",
    "SAVE YOUR RAW DATA IN ORIGINAL FORMAT\n",
    "* Don't overwrite your original data with a cleaned version.\n",
    "* Protect your original data by locking them or making them read-only.\n",
    "* Refer to this original data if things go wrong (as they often do).\n",
    "\n",
    "BACKUP YOUR DATA\n",
    "* Use the 3-2-1 rule: Save three copies of your data, on two different storage mediums, and one copy off site. The off site storage can be OneDrive or Google drive or whatever your institution provides.\n",
    "* We are using Open Data, so it does not contain any personally identifiable data or data that needs to be restricted or protected in any way. However, if your data contains confidential information, it is important to take steps to restrict access and encrypt your data.\n",
    "\n",
    "There are a few more RDM best practices that will help you in your project management, and we will highlight them at the beginning of each tutorial. "
   ]
  },
  {
   "cell_type": "markdown",
   "id": "9b6c4f65",
   "metadata": {},
   "source": [
    "Before we get started, there are just a few libraries to load."
   ]
  },
  {
   "cell_type": "code",
   "execution_count": 2,
   "id": "4d421852",
   "metadata": {},
   "outputs": [],
   "source": [
    "import matplotlib.pyplot as plt\n",
    "import numpy as np\n",
    "from ipywidgets import Video"
   ]
  },
  {
   "cell_type": "markdown",
   "id": "58097e34-8584-4683-9cbb-f1d5f3d165d8",
   "metadata": {},
   "source": [
    "### What if we want to train an image classifier i.e. use an image as an input ?\n",
    "Let's start with some image basics:\n",
    "\n",
    "- An image is a **collection of pixels**.  For example, a 32x32 image has 1024 pixels.\n",
    "- Each pixel is an **intensity represented by a number** in a range [0, 255]. 0 is black and 1 is white.​\n",
    "- Colour images have 3 dimensions: **[width, height, depth]** where depth is usually 3.  Depth encodes the intensity of RGB values [Red, Green, Blue].<br>\n",
    "![](..\\pynb_pics\\imageof8.jpg)\n",
    "<p style=\"text-align: center;\">An image is just a matrix of integers</p>"
   ]
  },
  {
   "cell_type": "markdown",
   "id": "fe8fcc37",
   "metadata": {},
   "source": [
    "There are 2 major limitations to feeding this matrix into a DNN as seen earlier\n",
    "- Does not scale well to bigger images:​\n",
    "\n",
    "  - Most real-life images are far bigger than 1024 pixels.  For example, a colour image of 320x320x3 has a dimension of 307200.​\n",
    "\n",
    "- Does not consider the property of an image:​\n",
    "\n",
    "  - Locality: Nearby pixels are usually strongly correlated (See outline of '8' picture). Scaling breaks the pattern.​\n",
    "\n",
    "  - Translation invariance: Meaningful features can occur anywhere in image.​\n",
    "![](..\\pynb_pics\\goose.jpg)"
   ]
  },
  {
   "cell_type": "markdown",
   "id": "557779f1",
   "metadata": {},
   "source": [
    "\n",
    "How **convolution** deals with these limitations:\n",
    "\n",
    " - **Weight Sharing**: All local parts of an image are processed with the same weights so that identical patterns can be detected at many locations e.g. horizontal edges, curves, etc.\n",
    "\n",
    " - **Hierarchy of features**: Lower-level patterns learned at the start are composed to form higher-level ones across layers e.g. edges to contours to head outlines, etc.\n",
    "\n",
    "How does convolution work?\n",
    "\n",
    " - Define a filter: a 2D weight matrix of a certain size e.g. 3x3 filter\n",
    "\n",
    " - Convolve the whole image with the filter: multiply each pixel under the filter with the weight\n",
    "\n",
    " - Convolution output forms a new image: a feature map\n",
    "\n",
    " - Using multiple filters (each with a different weight matrix), different features can be captured.\n",
    "\n",
    "A feature map in the context of this bird image is a representation generated by convolutional neural networks (CNNs) that extracts and highlights specific patterns from the input data. If this image sequence were processed by a CNN:\n",
    "In early convolutional layers, feature maps would detect basic elements like:\n",
    "* The edges outlining the bird's body and wings\n",
    "* The contrast between the bird and blue sky\n",
    "* Simple shapes and contours\n",
    "  \n",
    "In deeper layers, feature maps would identify more complex features:\n",
    "* Bird-specific characteristics like wing shapes\n",
    "* Body posture during flight\n",
    "* Distinctive patterns of the bird's coloration\n",
    "\n",
    "The creation of these feature maps involves convolutional filters sliding across the image, with each filter detecting different patterns and generating a unique representation. Multiple filters create multiple feature maps, collectively forming a comprehensive understanding of the bird's appearance and movement that enables accurate detection and classification."
   ]
  },
  {
   "cell_type": "markdown",
   "id": "b2a84cf9",
   "metadata": {},
   "source": [
    "### Simple Convolution example: mean filter\n",
    "\n",
    "To show how the filter works in its simplest form, let's take an image with pixel values as follows"
   ]
  },
  {
   "cell_type": "code",
   "execution_count": 3,
   "id": "3ebc897f-f731-4e9b-bd94-e6863b0bc57b",
   "metadata": {},
   "outputs": [
    {
     "data": {
      "image/png": "[encoded data removed]",
      "text/plain": [
       "<Figure size 640x480 with 1 Axes>"
      ]
     },
     "metadata": {},
     "output_type": "display_data"
    }
   ],
   "source": [
    "\n",
    "fig,ax=plt.subplots(1,subplot_kw={'aspect':'equal'})\n",
    "\n",
    "# A small 3x3 sample array\n",
    "# Normalise the data to between 0 and 1\n",
    "\n",
    "imarray=np.array([[0., 0., 0., 0., 0., 0., 0.],\n",
    " [0., 0., 0., 0., 0., 0., 0.],\n",
    " [0., 0., 1., 1., 1., 0., 0.],\n",
    " [0., 0., 1., 1., 1., 0., 0.],\n",
    " [0., 0., 1., 1., 1., 0., 0.],\n",
    " [0., 0., 0., 0., 0., 0., 0.],\n",
    " [0., 0., 0., 0., 0., 0., 0.]])\n",
    "\n",
    "# plot the array\n",
    "ax.imshow(imarray,cmap='gray', interpolation='none')\n",
    "\n",
    "plt.show()"
   ]
  },
  {
   "cell_type": "markdown",
   "id": "6421f1d4",
   "metadata": {},
   "source": [
    "A mean filter is a 2D matrix shown in the cell below"
   ]
  },
  {
   "cell_type": "code",
   "execution_count": 4,
   "id": "3dfd7cee",
   "metadata": {},
   "outputs": [
    {
     "data": {
      "text/plain": [
       "[[0.11, 0.11, 0.11], [0.11, 0.11, 0.11], [0.11, 0.11, 0.11]]"
      ]
     },
     "execution_count": 4,
     "metadata": {},
     "output_type": "execute_result"
    }
   ],
   "source": [
    "# a 3x3 filter\n",
    "[[.11, .11, .11],\n",
    "[.11, .11, .11],\n",
    "[.11, .11, .11]]"
   ]
  },
  {
   "attachments": {},
   "cell_type": "markdown",
   "id": "dee82899",
   "metadata": {},
   "source": [
    "A mean filter is a simple way to blur or smooth an image. It helps remove noise and makes the image look softer.<br>\n",
    "<b>How Does It Work?</b>\n",
    "1. Small Window: Imagine a small square (like 3x3) that moves across the image. This square is called a filter or kernel.\n",
    "2. Add and Average: For each spot, the filter looks at the 9 pixels inside the square. It adds up all their values and divides by 9 to get the average (the \"mean\").\n",
    "3. Replace the Pixel: The center pixel in the square is replaced with this average value.\n",
    "4. Slide Across the Image: The filter moves to the next spot and repeats the process until it has covered the whole image."
   ]
  },
  {
   "cell_type": "markdown",
   "id": "a122e895",
   "metadata": {},
   "source": [
    "### Convolution layer in action"
   ]
  },
  {
   "cell_type": "code",
   "execution_count": 14,
   "id": "39ce463d",
   "metadata": {},
   "outputs": [
    {
     "data": {
      "application/vnd.jupyter.widget-view+json": {
       "model_id": "affba31c314b490b974b82c32865e042",
       "version_major": 2,
       "version_minor": 0
      },
      "text/plain": [
       "Video(value=b'\\x00\\x00\\x00\\x18ftypmp42\\x00\\x00\\x00\\x00mp41isom\\x00\\x00\\x00(uuid\\\\\\xa7\\x08\\xfb2\\x8eB\\x05\\xa8ae\\…"
      ]
     },
     "metadata": {},
     "output_type": "display_data"
    }
   ],
   "source": [
    "Video.from_file(r\"..\\pynb_pics\\meanfilter.mp4\", width=320, height=320)"
   ]
  },
  {
   "cell_type": "markdown",
   "id": "0b4e8740",
   "metadata": {},
   "source": [
    "### Feature extraction\n",
    "Below is an example of the the averaging effect in an area of the image.  Notice how it blurs out any edges in the image.  This represents the initial stages of feature detections in the training image that the model will use to identify objects."
   ]
  },
  {
   "cell_type": "code",
   "execution_count": 7,
   "id": "f64f0107-6e72-45a1-b6d5-aaf1c64208e8",
   "metadata": {},
   "outputs": [
    {
     "data": {
      "image/png": "[encoded data removed]",
      "text/plain": [
       "<Figure size 640x480 with 1 Axes>"
      ]
     },
     "metadata": {},
     "output_type": "display_data"
    }
   ],
   "source": [
    "fig,ax=plt.subplots(1,subplot_kw={'aspect':'equal'})\n",
    "\n",
    "# After applying filter - one iteration\n",
    "imarray=np.array([[0.11, 0.22, 0.33, 0.22, 0.11],\n",
    " [0.22, 0.44, 0.67, 0.44, 0.22],\n",
    " [0.33, 0.67, 1.,   0.67, 0.33],\n",
    " [0.22, 0.44, 0.67, 0.44, 0.22],\n",
    " [0.11, 0.22, 0.33, 0.22, 0.11]])\n",
    "\n",
    "# plot the array\n",
    "ax.imshow(imarray,cmap='gray', interpolation='none')\n",
    "\n",
    "plt.show()\n"
   ]
  },
  {
   "attachments": {},
   "cell_type": "markdown",
   "id": "a26c344c",
   "metadata": {},
   "source": [
    "### Learning features\n",
    "How do CNNs learn features? Let's look back to the picture of a goose in-flight.\n",
    "1. They look for patterns\n",
    "* A CNN is a program that can look at pictures and find patterns.\n",
    "* At first, it doesn’t know what a bird is, but it can learn by looking at lots of images.\n",
    "2. They use filters (like small windows)\n",
    "* The CNN uses tiny “windows” called filters.\n",
    "* These filters slide across the image and look at small parts at a time (like 3x3 squares of pixels).\n",
    "3. They find simple features first\n",
    "* In the first layer, the CNN finds very simple things, like:\n",
    "    * Edges (where the bird’s wing meets the sky)\n",
    "    * Lines (the bird’s neck or wings)\n",
    "* Each filter is like a mini-detector for a certain shape or pattern.\n",
    "4. They build up to more complex features\n",
    "* The next layers use the simple features to find more complex ones, like:\n",
    "    * The shape of the bird’s wing\n",
    "    * The outline of the bird’s body\n",
    "* The deeper the layer, the more complex the features it can recognize.\n",
    "5. They learn by practice\n",
    "* The CNN looks at many pictures and tries to guess what’s in them.\n",
    "* If it’s wrong, it changes its filters a little bit.\n",
    "After seeing thousands of images, it gets really good at spotting birds\n",
    "\n",
    "To summarize:\n",
    "- Usually there are many filters for each layer\n",
    "- Each filter captures a different pattern of the same image\n",
    "- Multiple layers allow features at different scales to be captured. This is the hierarchy of features referred to earlier.\n",
    "- Early filters capture edges and textures\n",
    "- Later filters form parts and objects\n",
    "![](..\\pynb_pics\\layers.jpg)"
   ]
  },
  {
   "attachments": {},
   "cell_type": "markdown",
   "id": "506a375d",
   "metadata": {},
   "source": [
    "### Putting DNNs and CNNs together\n",
    "\n",
    "Deep Neural Networks (DNN) form the basis of detecting objects in images but they have limitations. The main difference is that a CNN is a special kind of DNN designed to work really well with pictures.\n",
    "\n",
    "#### DNN uses many fully-connected layers\n",
    "A DNN (Deep Neural Network) looks at all the pixels in an image at the same time, treating every part of the picture as equally important. This can be a problem for object detection (like finding the bird in your image) because the DNN doesn’t focus on the special patterns or shapes that make up the object. Instead, it just tries to learn from the whole picture, which makes it harder to identify the bird in a different location in the image or what it looks like, especially if the background is big and plain (like the blue sky in the image).\n",
    "\n",
    "#### CNN contains mostly convolutional layers\n",
    "A CNN uses filters to focus on small parts of the image, helping it find patterns like edges, shapes, and objects.\n",
    "- Convolutional layer: Image undergoes a convolution with filters\n",
    "- RELU layer: Activation function to introduce non-linearity in order to reduce error as much as possible (same function as with DNN)\n",
    "- Pooling layer: Image undergoes a convolution with a mean (or max) filter. Down-sampling and feature preservation.  Saves time and computations.\n",
    "- Fully-connected layer: Last layer to output a class probability prediction.  That's what you see."
   ]
  },
  {
   "attachments": {},
   "cell_type": "markdown",
   "id": "ce586527-1501-46e0-9706-bd3046fd67ad",
   "metadata": {},
   "source": [
    "In summary, convolutional neural networks (CNNs) are powerful deep learning models designed to automatically detect and learn patterns in images and videos by using layers of filters that capture spatial hierarchies of features. Their ability to efficiently process visual data makes them the go-to choice for tasks like image classification, object detection, and video analysis. In the next tutorial, we’ll explore transfer learning-a technique that leverages pre-trained CNNs to quickly and effectively tackle new problems, even with limited data."
   ]
  },
  {
   "cell_type": "code",
   "execution_count": null,
   "id": "b32210f0-9e5c-45b2-bc85-2a4062736d3e",
   "metadata": {},
   "outputs": [],
   "source": []
  }
 ],
 "metadata": {
  "kernelspec": {
   "display_name": "Python 3 (ipykernel)",
   "language": "python",
   "name": "python3"
  },
  "language_info": {
   "codemirror_mode": {
    "name": "ipython",
    "version": 3
   },
   "file_extension": ".py",
   "mimetype": "text/x-python",
   "name": "python",
   "nbconvert_exporter": "python",
   "pygments_lexer": "ipython3",
   "version": "3.12.7"
  }
 },
 "nbformat": 4,
 "nbformat_minor": 5
}
